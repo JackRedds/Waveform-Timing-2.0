{
 "cells": [
  {
   "cell_type": "code",
   "execution_count": 1,
   "id": "c9f762ce-f463-4ed1-9b01-54a160eaf97a",
   "metadata": {},
   "outputs": [],
   "source": [
    "import wave_timing.calc as wtc\n",
    "import wave_timing.utils as wtu\n",
    "import matplotlib.pyplot as plt\n",
    "import pandas as pd\n",
    "import numpy as np"
   ]
  },
  {
   "cell_type": "code",
   "execution_count": 2,
   "id": "357da286-9350-42c1-80a8-9af3ad169d64",
   "metadata": {},
   "outputs": [],
   "source": [
    "time = np.arange(0, 3.5, 6.67e-6)\n",
    "dv1 = np.sin(5 * np.pi * time)"
   ]
  },
  {
   "cell_type": "code",
   "execution_count": 3,
   "id": "bcb1c222-f690-4509-8ef8-bf2aea3d0b3d",
   "metadata": {},
   "outputs": [
    {
     "ename": "ValueError",
     "evalue": "setting an array element with a sequence.",
     "output_type": "error",
     "traceback": [
      "\u001b[0;31m---------------------------------------------------------------------------\u001b[0m",
      "\u001b[0;31mTypeError\u001b[0m                                 Traceback (most recent call last)",
      "\u001b[0;31mTypeError\u001b[0m: only length-1 arrays can be converted to Python scalars",
      "\nThe above exception was the direct cause of the following exception:\n",
      "\u001b[0;31mValueError\u001b[0m                                Traceback (most recent call last)",
      "Cell \u001b[0;32mIn[3], line 1\u001b[0m\n\u001b[0;32m----> 1\u001b[0m pk_to_pk, loc \u001b[38;5;241m=\u001b[39m \u001b[43mwtu\u001b[49m\u001b[38;5;241;43m.\u001b[39;49m\u001b[43mpeak_to_peak\u001b[49m\u001b[43m(\u001b[49m\u001b[43mdv1\u001b[49m\u001b[43m)\u001b[49m\n",
      "File \u001b[0;32m~/Documents/cattell_lab/Waveform-Timing-2.0/src/wave_timing/utils.py:142\u001b[0m, in \u001b[0;36mpeak_to_peak\u001b[0;34m(sig)\u001b[0m\n\u001b[1;32m    139\u001b[0m     \u001b[38;5;28;01melse\u001b[39;00m:\n\u001b[1;32m    140\u001b[0m         ave_pk \u001b[38;5;241m=\u001b[39m (peak_less \u001b[38;5;241m+\u001b[39m peak_greater) \u001b[38;5;241m/\u001b[39m \u001b[38;5;241m2\u001b[39m\n\u001b[0;32m--> 142\u001b[0m     \u001b[43mave_peak_to_peak\u001b[49m\u001b[43m[\u001b[49m\u001b[43mi\u001b[49m\u001b[43m]\u001b[49m \u001b[38;5;241m=\u001b[39m ave_pk\n\u001b[1;32m    143\u001b[0m \u001b[38;5;28;01mreturn\u001b[39;00m ave_peak_to_peak, peaks\n",
      "\u001b[0;31mValueError\u001b[0m: setting an array element with a sequence."
     ]
    }
   ],
   "source": [
    "pk_to_pk, loc = wtu.peak_to_peak(dv1)"
   ]
  },
  {
   "cell_type": "code",
   "execution_count": null,
   "id": "a6d61648-eb38-49ac-9b7b-0a008b14e53e",
   "metadata": {},
   "outputs": [],
   "source": [
    "fig, ax = plt.subplots(2, sharex=True, sharey=True, figsize=(10, 5))\n",
    "\n",
    "ax[0].plot(time, dv1)\n",
    "ax[1].plot(time[loc], pk_to_pk, '.')\n",
    "plt.tight_layout()"
   ]
  }
 ],
 "metadata": {
  "kernelspec": {
   "display_name": "Python 3 (ipykernel)",
   "language": "python",
   "name": "python3"
  },
  "language_info": {
   "codemirror_mode": {
    "name": "ipython",
    "version": 3
   },
   "file_extension": ".py",
   "mimetype": "text/x-python",
   "name": "python",
   "nbconvert_exporter": "python",
   "pygments_lexer": "ipython3",
   "version": "3.12.4"
  }
 },
 "nbformat": 4,
 "nbformat_minor": 5
}
