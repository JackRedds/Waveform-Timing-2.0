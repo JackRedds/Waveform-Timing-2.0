{
 "cells": [
  {
   "cell_type": "code",
   "execution_count": 1,
   "id": "7c83a596-902c-4b5d-9f49-fcf6fd73ffd5",
   "metadata": {},
   "outputs": [],
   "source": [
    "from wave_timing.utils import get_data\n",
    "import wave_timing.calc as wtc\n",
    "import pandas as pd\n",
    "import numpy as np"
   ]
  },
  {
   "cell_type": "code",
   "execution_count": 2,
   "id": "162692e5-7f5d-4b0f-89e2-ee95f948663d",
   "metadata": {},
   "outputs": [],
   "source": [
    "time = np.arange(0, 3.5, 6.67e-6)"
   ]
  },
  {
   "cell_type": "code",
   "execution_count": 3,
   "id": "45ea5b3c-8601-4f46-9088-c22847aac7d1",
   "metadata": {},
   "outputs": [],
   "source": [
    "samp_rt, nyquist, dt = wtc.sample_rate(time)"
   ]
  },
  {
   "cell_type": "code",
   "execution_count": 4,
   "id": "be2ba3d9-12f9-424a-bac2-eae754497adc",
   "metadata": {},
   "outputs": [
    {
     "name": "stdout",
     "output_type": "stream",
     "text": [
      "Sample Rate: 149925.32319588878\n",
      "Nyquist Frequency: 74962.66159794439\n",
      "dt: 6.67e-06\n"
     ]
    }
   ],
   "source": [
    "print(f\"Sample Rate: {samp_rt}\")\n",
    "print(f\"Nyquist Frequency: {nyquist}\")\n",
    "print(f\"dt: {dt}\")"
   ]
  },
  {
   "cell_type": "code",
   "execution_count": null,
   "id": "26388c35-b616-4635-8a84-0a21d341278f",
   "metadata": {},
   "outputs": [],
   "source": []
  }
 ],
 "metadata": {
  "kernelspec": {
   "display_name": "Python 3 (ipykernel)",
   "language": "python",
   "name": "python3"
  },
  "language_info": {
   "codemirror_mode": {
    "name": "ipython",
    "version": 3
   },
   "file_extension": ".py",
   "mimetype": "text/x-python",
   "name": "python",
   "nbconvert_exporter": "python",
   "pygments_lexer": "ipython3",
   "version": "3.12.4"
  }
 },
 "nbformat": 4,
 "nbformat_minor": 5
}
