{
 "cells": [
  {
   "cell_type": "code",
   "execution_count": 1,
   "id": "40d50b00-45b5-4d63-ba04-4e8bee2ad1dc",
   "metadata": {},
   "outputs": [],
   "source": [
    "import wave_timing.calc as wtc\n",
    "import wave_timing.utils as wtu\n",
    "import matplotlib.pyplot as plt\n",
    "import pandas as pd\n",
    "import numpy as np"
   ]
  },
  {
   "cell_type": "code",
   "execution_count": 2,
   "id": "8ced290d-d007-4909-baf3-9b865b2dfe44",
   "metadata": {},
   "outputs": [],
   "source": [
    "t_12 = 0.012\n",
    "t_34 = 0.045\n",
    "velocity, k_vector = wtc.wave_velocity(t_12, t_34)"
   ]
  },
  {
   "cell_type": "code",
   "execution_count": 3,
   "id": "2318dcf5-b572-44c3-84d3-516786635953",
   "metadata": {},
   "outputs": [
    {
     "name": "stdout",
     "output_type": "stream",
     "text": [
      "Wave Velocity: 0.07515160641343027 km / s\n",
      "Wave Vector: [0.25766265 0.96623494]\n",
      "Wave Vector Magnitude: 1.0\n"
     ]
    }
   ],
   "source": [
    "print(f\"Wave Velocity: {velocity}\")\n",
    "print(f\"Wave Vector: {k_vector}\")\n",
    "k_mag = np.sqrt(np.dot(k_vector, k_vector))\n",
    "print(f\"Wave Vector Magnitude: {k_mag}\")"
   ]
  }
 ],
 "metadata": {
  "kernelspec": {
   "display_name": "Python 3 (ipykernel)",
   "language": "python",
   "name": "python3"
  },
  "language_info": {
   "codemirror_mode": {
    "name": "ipython",
    "version": 3
   },
   "file_extension": ".py",
   "mimetype": "text/x-python",
   "name": "python",
   "nbconvert_exporter": "python",
   "pygments_lexer": "ipython3",
   "version": "3.12.4"
  }
 },
 "nbformat": 4,
 "nbformat_minor": 5
}
