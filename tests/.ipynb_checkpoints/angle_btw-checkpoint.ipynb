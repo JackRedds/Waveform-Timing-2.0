{
 "cells": [
  {
   "cell_type": "code",
   "execution_count": 1,
   "id": "9f98317b-3b24-4b7c-8b84-ef4de6ae39c0",
   "metadata": {},
   "outputs": [],
   "source": [
    "import wave_timing.calc as wtc\n",
    "import wave_timing.utils as wtu\n",
    "import matplotlib.pyplot as plt\n",
    "import pandas as pd\n",
    "import numpy as np"
   ]
  },
  {
   "cell_type": "code",
   "execution_count": 2,
   "id": "353297b4-0229-4f59-aeb4-7652a9ff676a",
   "metadata": {},
   "outputs": [],
   "source": [
    "t_12 = 0.012\n",
    "t_34 = 0.045\n",
    "velocity, k_vector = wtc.wave_velocity(t_12, t_34)"
   ]
  },
  {
   "cell_type": "code",
   "execution_count": 3,
   "id": "07d368b2-fec0-448b-8d1b-72b842ec22ca",
   "metadata": {},
   "outputs": [
    {
     "name": "stdout",
     "output_type": "stream",
     "text": [
      "Angle between [1 0] and [0 1]: 90.0\n"
     ]
    }
   ],
   "source": [
    "vec1 = np.array([1, 0])\n",
    "vec2 = np.array([0, 1])\n",
    "angle = wtc.angle_between(vec1, vec2)\n",
    "\n",
    "print(f\"Angle between {vec1} and {vec2}: {angle}\")"
   ]
  },
  {
   "cell_type": "code",
   "execution_count": 4,
   "id": "8ba1ebb7-30e1-4539-be77-68f7daefe76c",
   "metadata": {},
   "outputs": [
    {
     "name": "stdout",
     "output_type": "stream",
     "text": [
      "Angle between [1 0 1] and [0 1 0]: 90.0\n"
     ]
    }
   ],
   "source": [
    "vec1 = np.array([1, 0, 1])\n",
    "vec2 = np.array([0, 1, 0])\n",
    "angle = wtc.angle_between(vec1, vec2)\n",
    "\n",
    "print(f\"Angle between {vec1} and {vec2}: {angle}\")"
   ]
  },
  {
   "cell_type": "code",
   "execution_count": 5,
   "id": "f8b640e3-9bcf-4115-a778-3abd32fa637b",
   "metadata": {},
   "outputs": [
    {
     "name": "stdout",
     "output_type": "stream",
     "text": [
      "Angle between [0.25766265 0.96623494] and [1 0]: 75.06858282186245 deg\n"
     ]
    }
   ],
   "source": [
    "vec1 = k_vector\n",
    "vec2 = np.array([1, 0])\n",
    "angle = wtc.angle_between(vec1, vec2)\n",
    "\n",
    "print(f\"Angle between {vec1} and {vec2}: {angle}\")"
   ]
  },
  {
   "cell_type": "code",
   "execution_count": 6,
   "id": "ae1e71e3-ca81-4224-8585-f598765942e9",
   "metadata": {},
   "outputs": [
    {
     "name": "stdout",
     "output_type": "stream",
     "text": [
      "Angle between [1 0] and [50 70]: 54.46232220802562\n"
     ]
    }
   ],
   "source": [
    "vec1 = np.array([1, 0])\n",
    "vec2 = np.array([50, 70])\n",
    "angle = wtc.angle_between(vec1, vec2)\n",
    "\n",
    "print(f\"Angle between {vec1} and {vec2}: {angle}\")"
   ]
  },
  {
   "cell_type": "code",
   "execution_count": null,
   "id": "7381d148-1fd4-41d2-91c4-f4818b6d2aef",
   "metadata": {},
   "outputs": [],
   "source": []
  }
 ],
 "metadata": {
  "kernelspec": {
   "display_name": "Python 3 (ipykernel)",
   "language": "python",
   "name": "python3"
  },
  "language_info": {
   "codemirror_mode": {
    "name": "ipython",
    "version": 3
   },
   "file_extension": ".py",
   "mimetype": "text/x-python",
   "name": "python",
   "nbconvert_exporter": "python",
   "pygments_lexer": "ipython3",
   "version": "3.12.4"
  }
 },
 "nbformat": 4,
 "nbformat_minor": 5
}
