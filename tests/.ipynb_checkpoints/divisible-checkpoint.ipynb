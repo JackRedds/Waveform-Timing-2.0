{
 "cells": [
  {
   "cell_type": "code",
   "execution_count": 1,
   "id": "919d4443-72ba-4ce1-a07e-0b08dafc7b31",
   "metadata": {},
   "outputs": [],
   "source": [
    "import wave_timing.utils as wtu\n",
    "import numpy as np"
   ]
  },
  {
   "cell_type": "code",
   "execution_count": 2,
   "id": "9f209018-a660-43a9-924f-837601d63dab",
   "metadata": {},
   "outputs": [
    {
     "name": "stdout",
     "output_type": "stream",
     "text": [
      "True\n"
     ]
    }
   ],
   "source": [
    "denom = 4.4\n",
    "divid = np.array([3, 1000, 7, 8, 10])\n",
    "print(wtu.divisible(denom, divid))"
   ]
  },
  {
   "cell_type": "code",
   "execution_count": null,
   "id": "00f756e7-e711-4fc8-915a-4306873dbe79",
   "metadata": {},
   "outputs": [],
   "source": []
  }
 ],
 "metadata": {
  "kernelspec": {
   "display_name": "Python 3 (ipykernel)",
   "language": "python",
   "name": "python3"
  },
  "language_info": {
   "codemirror_mode": {
    "name": "ipython",
    "version": 3
   },
   "file_extension": ".py",
   "mimetype": "text/x-python",
   "name": "python",
   "nbconvert_exporter": "python",
   "pygments_lexer": "ipython3",
   "version": "3.12.4"
  }
 },
 "nbformat": 4,
 "nbformat_minor": 5
}
